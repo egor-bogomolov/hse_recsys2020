{
 "cells": [
  {
   "cell_type": "markdown",
   "metadata": {},
   "source": [
    "### Матричные факторизации"
   ]
  },
  {
   "cell_type": "markdown",
   "metadata": {},
   "source": [
    "В данной работе вам предстоит познакомиться с практической стороной матричных разложений.\n",
    "Работа поделена на 4 задания:\n",
    "1. Вам необходимо реализовать SVD разложения используя SGD на explicit данных\n",
    "2. Вам необходимо реализовать матричное разложения используя ALS на implicit данных\n",
    "3. Вам необходимо реализовать матричное разложения используя BPR(pair-wise loss) на implicit данных\n",
    "4. Вам необходимо реализовать матричное разложения используя WARP(list-wise loss) на implicit данных\n",
    "\n",
    "Мягкий дедлайн 28 Сентября (пишутся замечания, выставляется оценка, есть возможность исправить до жесткого дедлайна)\n",
    "\n",
    "Жесткий дедлайн 5 Октября (Итоговая проверка)"
   ]
  },
  {
   "cell_type": "code",
   "execution_count": 1,
   "metadata": {},
   "outputs": [],
   "source": [
    "import implicit\n",
    "import pandas as pd\n",
    "import numpy as np\n",
    "import scipy.sparse as sp\n",
    "\n",
    "from lightfm.datasets import fetch_movielens"
   ]
  },
  {
   "cell_type": "code",
   "execution_count": 379,
   "metadata": {},
   "outputs": [],
   "source": [
    "from pathlib import Path\n",
    "from tqdm import tqdm\n",
    "from collections import defaultdict\n",
    "from sklearn.metrics import roc_auc_score"
   ]
  },
  {
   "cell_type": "markdown",
   "metadata": {},
   "source": [
    "В данной работе мы будем работать с explicit датасетом movieLens, в котором представленны пары user_id movie_id и rating выставленный пользователем фильму\n",
    "\n",
    "Скачать датасет можно по ссылке https://grouplens.org/datasets/movielens/1m/"
   ]
  },
  {
   "cell_type": "code",
   "execution_count": 3,
   "metadata": {},
   "outputs": [],
   "source": [
    "dataset_dir = Path('..', 'data', 'ml-1m')"
   ]
  },
  {
   "cell_type": "code",
   "execution_count": 4,
   "metadata": {},
   "outputs": [],
   "source": [
    "ratings = pd.read_csv(dataset_dir / 'ratings.dat', delimiter='::', header=None, \n",
    "        names=['user_id', 'movie_id', 'rating', 'timestamp'], \n",
    "        usecols=['user_id', 'movie_id', 'rating'], engine='python')"
   ]
  },
  {
   "cell_type": "code",
   "execution_count": 5,
   "metadata": {},
   "outputs": [],
   "source": [
    "movie_info = pd.read_csv(dataset_dir / 'movies.dat', delimiter='::', header=None, \n",
    "        names=['movie_id', 'name', 'category'], engine='python')"
   ]
  },
  {
   "cell_type": "markdown",
   "metadata": {},
   "source": [
    "Explicit данные"
   ]
  },
  {
   "cell_type": "code",
   "execution_count": 6,
   "metadata": {},
   "outputs": [
    {
     "data": {
      "text/html": [
       "<div>\n",
       "<style scoped>\n",
       "    .dataframe tbody tr th:only-of-type {\n",
       "        vertical-align: middle;\n",
       "    }\n",
       "\n",
       "    .dataframe tbody tr th {\n",
       "        vertical-align: top;\n",
       "    }\n",
       "\n",
       "    .dataframe thead th {\n",
       "        text-align: right;\n",
       "    }\n",
       "</style>\n",
       "<table border=\"1\" class=\"dataframe\">\n",
       "  <thead>\n",
       "    <tr style=\"text-align: right;\">\n",
       "      <th></th>\n",
       "      <th>user_id</th>\n",
       "      <th>movie_id</th>\n",
       "      <th>rating</th>\n",
       "    </tr>\n",
       "  </thead>\n",
       "  <tbody>\n",
       "    <tr>\n",
       "      <th>0</th>\n",
       "      <td>1</td>\n",
       "      <td>1193</td>\n",
       "      <td>5</td>\n",
       "    </tr>\n",
       "    <tr>\n",
       "      <th>1</th>\n",
       "      <td>1</td>\n",
       "      <td>661</td>\n",
       "      <td>3</td>\n",
       "    </tr>\n",
       "    <tr>\n",
       "      <th>2</th>\n",
       "      <td>1</td>\n",
       "      <td>914</td>\n",
       "      <td>3</td>\n",
       "    </tr>\n",
       "    <tr>\n",
       "      <th>3</th>\n",
       "      <td>1</td>\n",
       "      <td>3408</td>\n",
       "      <td>4</td>\n",
       "    </tr>\n",
       "    <tr>\n",
       "      <th>4</th>\n",
       "      <td>1</td>\n",
       "      <td>2355</td>\n",
       "      <td>5</td>\n",
       "    </tr>\n",
       "    <tr>\n",
       "      <th>5</th>\n",
       "      <td>1</td>\n",
       "      <td>1197</td>\n",
       "      <td>3</td>\n",
       "    </tr>\n",
       "    <tr>\n",
       "      <th>6</th>\n",
       "      <td>1</td>\n",
       "      <td>1287</td>\n",
       "      <td>5</td>\n",
       "    </tr>\n",
       "    <tr>\n",
       "      <th>7</th>\n",
       "      <td>1</td>\n",
       "      <td>2804</td>\n",
       "      <td>5</td>\n",
       "    </tr>\n",
       "    <tr>\n",
       "      <th>8</th>\n",
       "      <td>1</td>\n",
       "      <td>594</td>\n",
       "      <td>4</td>\n",
       "    </tr>\n",
       "    <tr>\n",
       "      <th>9</th>\n",
       "      <td>1</td>\n",
       "      <td>919</td>\n",
       "      <td>4</td>\n",
       "    </tr>\n",
       "  </tbody>\n",
       "</table>\n",
       "</div>"
      ],
      "text/plain": [
       "   user_id  movie_id  rating\n",
       "0        1      1193       5\n",
       "1        1       661       3\n",
       "2        1       914       3\n",
       "3        1      3408       4\n",
       "4        1      2355       5\n",
       "5        1      1197       3\n",
       "6        1      1287       5\n",
       "7        1      2804       5\n",
       "8        1       594       4\n",
       "9        1       919       4"
      ]
     },
     "execution_count": 6,
     "metadata": {},
     "output_type": "execute_result"
    }
   ],
   "source": [
    "ratings.head(10)"
   ]
  },
  {
   "cell_type": "markdown",
   "metadata": {},
   "source": [
    "Для того, чтобы преобразовать текущий датасет в Implicit, давайте считать что позитивная оценка это оценка >=4"
   ]
  },
  {
   "cell_type": "code",
   "execution_count": 7,
   "metadata": {},
   "outputs": [],
   "source": [
    "implicit_ratings = ratings.loc[(ratings['rating'] >= 4)]"
   ]
  },
  {
   "cell_type": "code",
   "execution_count": 8,
   "metadata": {},
   "outputs": [
    {
     "data": {
      "text/html": [
       "<div>\n",
       "<style scoped>\n",
       "    .dataframe tbody tr th:only-of-type {\n",
       "        vertical-align: middle;\n",
       "    }\n",
       "\n",
       "    .dataframe tbody tr th {\n",
       "        vertical-align: top;\n",
       "    }\n",
       "\n",
       "    .dataframe thead th {\n",
       "        text-align: right;\n",
       "    }\n",
       "</style>\n",
       "<table border=\"1\" class=\"dataframe\">\n",
       "  <thead>\n",
       "    <tr style=\"text-align: right;\">\n",
       "      <th></th>\n",
       "      <th>user_id</th>\n",
       "      <th>movie_id</th>\n",
       "      <th>rating</th>\n",
       "    </tr>\n",
       "  </thead>\n",
       "  <tbody>\n",
       "    <tr>\n",
       "      <th>0</th>\n",
       "      <td>1</td>\n",
       "      <td>1193</td>\n",
       "      <td>5</td>\n",
       "    </tr>\n",
       "    <tr>\n",
       "      <th>3</th>\n",
       "      <td>1</td>\n",
       "      <td>3408</td>\n",
       "      <td>4</td>\n",
       "    </tr>\n",
       "    <tr>\n",
       "      <th>4</th>\n",
       "      <td>1</td>\n",
       "      <td>2355</td>\n",
       "      <td>5</td>\n",
       "    </tr>\n",
       "    <tr>\n",
       "      <th>6</th>\n",
       "      <td>1</td>\n",
       "      <td>1287</td>\n",
       "      <td>5</td>\n",
       "    </tr>\n",
       "    <tr>\n",
       "      <th>7</th>\n",
       "      <td>1</td>\n",
       "      <td>2804</td>\n",
       "      <td>5</td>\n",
       "    </tr>\n",
       "    <tr>\n",
       "      <th>8</th>\n",
       "      <td>1</td>\n",
       "      <td>594</td>\n",
       "      <td>4</td>\n",
       "    </tr>\n",
       "    <tr>\n",
       "      <th>9</th>\n",
       "      <td>1</td>\n",
       "      <td>919</td>\n",
       "      <td>4</td>\n",
       "    </tr>\n",
       "    <tr>\n",
       "      <th>10</th>\n",
       "      <td>1</td>\n",
       "      <td>595</td>\n",
       "      <td>5</td>\n",
       "    </tr>\n",
       "    <tr>\n",
       "      <th>11</th>\n",
       "      <td>1</td>\n",
       "      <td>938</td>\n",
       "      <td>4</td>\n",
       "    </tr>\n",
       "    <tr>\n",
       "      <th>12</th>\n",
       "      <td>1</td>\n",
       "      <td>2398</td>\n",
       "      <td>4</td>\n",
       "    </tr>\n",
       "  </tbody>\n",
       "</table>\n",
       "</div>"
      ],
      "text/plain": [
       "    user_id  movie_id  rating\n",
       "0         1      1193       5\n",
       "3         1      3408       4\n",
       "4         1      2355       5\n",
       "6         1      1287       5\n",
       "7         1      2804       5\n",
       "8         1       594       4\n",
       "9         1       919       4\n",
       "10        1       595       5\n",
       "11        1       938       4\n",
       "12        1      2398       4"
      ]
     },
     "execution_count": 8,
     "metadata": {},
     "output_type": "execute_result"
    }
   ],
   "source": [
    "implicit_ratings.head(10)"
   ]
  },
  {
   "cell_type": "markdown",
   "metadata": {},
   "source": [
    "Удобнее работать с sparse матричками, давайте преобразуем DataFrame в CSR матрицы"
   ]
  },
  {
   "cell_type": "code",
   "execution_count": 9,
   "metadata": {},
   "outputs": [],
   "source": [
    "users = implicit_ratings[\"user_id\"]\n",
    "movies = implicit_ratings[\"movie_id\"]\n",
    "user_item = sp.coo_matrix((np.ones_like(users), (users, movies)))\n",
    "user_item_t_csr = user_item.T.tocsr()\n",
    "user_item_csr = user_item.tocsr()"
   ]
  },
  {
   "cell_type": "markdown",
   "metadata": {},
   "source": [
    "В качестве примера воспользуемся ALS разложением из библиотеки implicit\n",
    "\n",
    "Зададим размерность латентного пространства равным 64, это же определяет размер user/item эмбедингов"
   ]
  },
  {
   "cell_type": "code",
   "execution_count": 10,
   "metadata": {},
   "outputs": [],
   "source": [
    "model = implicit.als.AlternatingLeastSquares(factors=64, iterations=100, calculate_training_loss=True)"
   ]
  },
  {
   "cell_type": "markdown",
   "metadata": {},
   "source": [
    "В качестве loss здесь всеми любимый RMSE"
   ]
  },
  {
   "cell_type": "code",
   "execution_count": 11,
   "metadata": {},
   "outputs": [
    {
     "data": {
      "application/vnd.jupyter.widget-view+json": {
       "model_id": "e8e93a5ae7ed4900840890af05a6a453",
       "version_major": 2,
       "version_minor": 0
      },
      "text/plain": [
       "HBox(children=(HTML(value=''), FloatProgress(value=0.0), HTML(value='')))"
      ]
     },
     "metadata": {},
     "output_type": "display_data"
    },
    {
     "name": "stdout",
     "output_type": "stream",
     "text": [
      "\n"
     ]
    }
   ],
   "source": [
    "model.fit(user_item_t_csr)"
   ]
  },
  {
   "cell_type": "markdown",
   "metadata": {},
   "source": [
    "Построим похожие фильмы по 1 movie_id = Истории игрушек"
   ]
  },
  {
   "cell_type": "code",
   "execution_count": 12,
   "metadata": {},
   "outputs": [
    {
     "data": {
      "text/html": [
       "<div>\n",
       "<style scoped>\n",
       "    .dataframe tbody tr th:only-of-type {\n",
       "        vertical-align: middle;\n",
       "    }\n",
       "\n",
       "    .dataframe tbody tr th {\n",
       "        vertical-align: top;\n",
       "    }\n",
       "\n",
       "    .dataframe thead th {\n",
       "        text-align: right;\n",
       "    }\n",
       "</style>\n",
       "<table border=\"1\" class=\"dataframe\">\n",
       "  <thead>\n",
       "    <tr style=\"text-align: right;\">\n",
       "      <th></th>\n",
       "      <th>movie_id</th>\n",
       "      <th>name</th>\n",
       "      <th>category</th>\n",
       "    </tr>\n",
       "  </thead>\n",
       "  <tbody>\n",
       "    <tr>\n",
       "      <th>0</th>\n",
       "      <td>1</td>\n",
       "      <td>Toy Story (1995)</td>\n",
       "      <td>Animation|Children's|Comedy</td>\n",
       "    </tr>\n",
       "    <tr>\n",
       "      <th>1</th>\n",
       "      <td>2</td>\n",
       "      <td>Jumanji (1995)</td>\n",
       "      <td>Adventure|Children's|Fantasy</td>\n",
       "    </tr>\n",
       "    <tr>\n",
       "      <th>2</th>\n",
       "      <td>3</td>\n",
       "      <td>Grumpier Old Men (1995)</td>\n",
       "      <td>Comedy|Romance</td>\n",
       "    </tr>\n",
       "    <tr>\n",
       "      <th>3</th>\n",
       "      <td>4</td>\n",
       "      <td>Waiting to Exhale (1995)</td>\n",
       "      <td>Comedy|Drama</td>\n",
       "    </tr>\n",
       "    <tr>\n",
       "      <th>4</th>\n",
       "      <td>5</td>\n",
       "      <td>Father of the Bride Part II (1995)</td>\n",
       "      <td>Comedy</td>\n",
       "    </tr>\n",
       "  </tbody>\n",
       "</table>\n",
       "</div>"
      ],
      "text/plain": [
       "   movie_id                                name                      category\n",
       "0         1                    Toy Story (1995)   Animation|Children's|Comedy\n",
       "1         2                      Jumanji (1995)  Adventure|Children's|Fantasy\n",
       "2         3             Grumpier Old Men (1995)                Comedy|Romance\n",
       "3         4            Waiting to Exhale (1995)                  Comedy|Drama\n",
       "4         5  Father of the Bride Part II (1995)                        Comedy"
      ]
     },
     "execution_count": 12,
     "metadata": {},
     "output_type": "execute_result"
    }
   ],
   "source": [
    "movie_info.head(5)"
   ]
  },
  {
   "cell_type": "code",
   "execution_count": 13,
   "metadata": {},
   "outputs": [],
   "source": [
    "get_similars = lambda item_id, model : [movie_info[movie_info[\"movie_id\"] == x[0]][\"name\"].to_string() \n",
    "                                        for x in model.similar_items(item_id)]"
   ]
  },
  {
   "cell_type": "markdown",
   "metadata": {},
   "source": [
    "Как мы видим, симилары действительно оказались симиларами.\n",
    "\n",
    "Качество симиларов часто является хорошим способом проверить качество алгоритмов.\n",
    "\n",
    "P.S. Если хочется поглубже разобраться в том как разные алгоритмы формируют разные латентные пространства, рекомендую загружать полученные вектора в tensorBoard и смотреть на сформированное пространство"
   ]
  },
  {
   "cell_type": "code",
   "execution_count": 14,
   "metadata": {},
   "outputs": [
    {
     "data": {
      "text/plain": [
       "['0    Toy Story (1995)',\n",
       " '3045    Toy Story 2 (1999)',\n",
       " \"2286    Bug's Life, A (1998)\",\n",
       " '33    Babe (1995)',\n",
       " '584    Aladdin (1992)',\n",
       " '2315    Babe: Pig in the City (1998)',\n",
       " '360    Lion King, The (1994)',\n",
       " '1838    Mulan (1998)',\n",
       " '2618    Tarzan (1999)',\n",
       " '1526    Hercules (1997)']"
      ]
     },
     "execution_count": 14,
     "metadata": {},
     "output_type": "execute_result"
    }
   ],
   "source": [
    "get_similars(1, model)"
   ]
  },
  {
   "cell_type": "markdown",
   "metadata": {},
   "source": [
    "Давайте теперь построим рекомендации для юзеров\n",
    "\n",
    "Как мы видим юзеру нравится фантастика, значит и в рекомендациях ожидаем увидеть фантастику"
   ]
  },
  {
   "cell_type": "code",
   "execution_count": 15,
   "metadata": {},
   "outputs": [],
   "source": [
    "get_user_history = lambda user_id, implicit_ratings : [movie_info[movie_info[\"movie_id\"] == x][\"name\"].to_string() \n",
    "                                            for x in implicit_ratings[implicit_ratings[\"user_id\"] == user_id][\"movie_id\"]]"
   ]
  },
  {
   "cell_type": "code",
   "execution_count": 16,
   "metadata": {},
   "outputs": [
    {
     "data": {
      "text/plain": [
       "['3399    Hustler, The (1961)',\n",
       " '2882    Fistful of Dollars, A (1964)',\n",
       " '1196    Alien (1979)',\n",
       " '1023    Die Hard (1988)',\n",
       " '257    Star Wars: Episode IV - A New Hope (1977)',\n",
       " '1959    Saving Private Ryan (1998)',\n",
       " '476    Jurassic Park (1993)',\n",
       " '1180    Raiders of the Lost Ark (1981)',\n",
       " '1885    Rocky (1976)',\n",
       " '1081    E.T. the Extra-Terrestrial (1982)',\n",
       " '3349    Thelma & Louise (1991)',\n",
       " '3633    Mad Max (1979)',\n",
       " '2297    King Kong (1933)',\n",
       " '1366    Jaws (1975)',\n",
       " '1183    Good, The Bad and The Ugly, The (1966)',\n",
       " '2623    Run Lola Run (Lola rennt) (1998)',\n",
       " '2878    Goldfinger (1964)',\n",
       " '1220    Terminator, The (1984)']"
      ]
     },
     "execution_count": 16,
     "metadata": {},
     "output_type": "execute_result"
    }
   ],
   "source": [
    "get_user_history(4, implicit_ratings)"
   ]
  },
  {
   "cell_type": "markdown",
   "metadata": {},
   "source": [
    "Получилось! \n",
    "\n",
    "Мы действительно порекомендовали пользователю фантастику и боевики, более того встречаются продолжения тех фильмов, которые он высоко оценил"
   ]
  },
  {
   "cell_type": "code",
   "execution_count": 17,
   "metadata": {},
   "outputs": [],
   "source": [
    "get_recommendations = lambda user_id, model : [movie_info[movie_info[\"movie_id\"] == x[0]][\"name\"].to_string() \n",
    "                                               for x in model.recommend(user_id, user_item_csr)]"
   ]
  },
  {
   "cell_type": "code",
   "execution_count": 18,
   "metadata": {},
   "outputs": [
    {
     "data": {
      "text/plain": [
       "['585    Terminator 2: Judgment Day (1991)',\n",
       " '1271    Indiana Jones and the Last Crusade (1989)',\n",
       " '1182    Aliens (1986)',\n",
       " '1284    Butch Cassidy and the Sundance Kid (1969)',\n",
       " '2502    Matrix, The (1999)',\n",
       " '1178    Star Wars: Episode V - The Empire Strikes Back...',\n",
       " '1179    Princess Bride, The (1987)',\n",
       " '847    Godfather, The (1972)',\n",
       " '1892    Rain Man (1988)',\n",
       " '3402    Close Encounters of the Third Kind (1977)']"
      ]
     },
     "execution_count": 18,
     "metadata": {},
     "output_type": "execute_result"
    }
   ],
   "source": [
    "get_recommendations(4, model)"
   ]
  },
  {
   "cell_type": "markdown",
   "metadata": {},
   "source": [
    "Теперь ваша очередь реализовать самые популярные алгоритмы матричных разложений\n",
    "\n",
    "Что будет оцениваться:\n",
    "1. Корректность алгоритма\n",
    "2. Качество получившихся симиларов\n",
    "3. Качество итоговых рекомендаций для юзера"
   ]
  },
  {
   "cell_type": "markdown",
   "metadata": {},
   "source": [
    "### Шаг 0: вспомогательные классы для данных и моделей"
   ]
  },
  {
   "cell_type": "code",
   "execution_count": 232,
   "metadata": {},
   "outputs": [],
   "source": [
    "class EvaluationData:\n",
    "\n",
    "    def __init__(self, ratings, explicit=True, train_val_test_split=(0.8, 0.1, 0.1)):\n",
    "        train_ratio, val_ratio, test_ratio = train_val_test_split\n",
    "        self.n_ratings = len(ratings)\n",
    "        self.n_train = int(self.n_ratings * train_ratio)\n",
    "        self.n_val = int(self.n_ratings * val_ratio)\n",
    "        self.n_test = self.n_ratings - self.n_train - self.n_val\n",
    "\n",
    "        self.n_users = max(ratings.user_id) + 1\n",
    "        self.n_movies = max(ratings.movie_id) + 1\n",
    "        self.present_users = ratings.user_id.unique()\n",
    "        self.present_movies = ratings.movie_id.unique()\n",
    "        \n",
    "        index = np.random.permutation(ratings.index)\n",
    "        self.train_ratings = ratings.loc[index[:self.n_train]]\n",
    "        self.val_ratings = ratings.loc[index[self.n_train:self.n_train + self.n_val]]\n",
    "        self.test_ratings = ratings.loc[index[self.n_train + self.n_val:]]"
   ]
  },
  {
   "cell_type": "code",
   "execution_count": 233,
   "metadata": {},
   "outputs": [],
   "source": [
    "eval_data = EvaluationData(ratings)"
   ]
  },
  {
   "cell_type": "code",
   "execution_count": 151,
   "metadata": {},
   "outputs": [
    {
     "data": {
      "text/plain": [
       "(6041, 3953)"
      ]
     },
     "execution_count": 151,
     "metadata": {},
     "output_type": "execute_result"
    }
   ],
   "source": [
    "evaluator.n_users, evaluator.n_movies"
   ]
  },
  {
   "cell_type": "code",
   "execution_count": 394,
   "metadata": {},
   "outputs": [],
   "source": [
    "from abc import ABC\n",
    "\n",
    "def movie_name(movie_id):\n",
    "    return f'{movie_info[movie_info[\"movie_id\"] == movie_id][\"name\"].iloc[0]} | ' \\\n",
    "           f'{movie_info[movie_info[\"movie_id\"] == movie_id][\"category\"].iloc[0]}'\n",
    "\n",
    "class Model(ABC):\n",
    "    def __init__(self, n_users, n_movies, dim=64, training_epochs=10, lr=0.001, reg=0.1, early_stopping_epochs=3):\n",
    "        self.dim = dim\n",
    "        self.epochs = training_epochs\n",
    "        self.early_stopping_epochs = early_stopping_epochs\n",
    "        self.lr = lr\n",
    "        self.reg = reg\n",
    "        self.n_users = n_users\n",
    "        self.n_movies = n_movies\n",
    "        self.uniform_range = 1 / np.sqrt(dim)\n",
    "        self.user_embedding = np.zeros((n_users, dim))\n",
    "        self.movie_embedding = np.zeros((n_users, dim))\n",
    "        self.user_bias = np.zeros(dim)\n",
    "        self.movie_bias = np.zeros(dim)\n",
    "        self.bias = 0\n",
    "        self.historical_data = None\n",
    "        \n",
    "    \n",
    "    def _init_embeddings(self, data):\n",
    "        self.user_embedding = np.random.uniform(0, self.uniform_range, (self.n_users, self.dim))\n",
    "        self.movie_embedding = np.random.uniform(0, self.uniform_range, (self.n_movies, self.dim))\n",
    "        self.user_bias = np.zeros(self.n_users)\n",
    "        self.movie_bias = np.zeros(self.n_movies)\n",
    "        self.bias = data['rating'].mean()\n",
    "    \n",
    "    def _store_state(self):\n",
    "        self._best_state = (\n",
    "            self.user_embedding.copy(), \n",
    "            self.movie_embedding.copy(), \n",
    "            self.user_bias.copy(),\n",
    "            self.movie_bias.copy(),\n",
    "            self.bias\n",
    "        )\n",
    "        \n",
    "    def _restore_state(self):\n",
    "        self.user_embedding, self.movie_embedding, self.user_bias, self.movie_bias, self.bias  = self._best_state\n",
    "    \n",
    "    def _predict_rating(self, u, m):\n",
    "        return np.dot(self.user_embedding[u], self.movie_embedding[m]) + self.user_bias[u] + self.movie_bias[m] + self.bias\n",
    "    \n",
    "    def _update_embeddings(self, u, m, error):\n",
    "        user_correction = self.lr * (error * self.movie_embedding[m] + self.reg * self.user_embedding[u])\n",
    "        movie_correction = self.lr * (error * self.user_embedding[u] + self.reg * self.movie_embedding[m])\n",
    "        user_bias_correction = self.lr * (error + self.reg * self.user_bias[u])\n",
    "        movie_bias_correction = self.lr * (error + self.reg * self.movie_bias[m])\n",
    "        self.user_embedding[u] -= user_correction\n",
    "        self.movie_embedding[m] -= movie_correction\n",
    "        self.user_bias[u] -=  user_bias_correction\n",
    "        self.movie_bias[m] -= movie_bias_correction\n",
    "    \n",
    "    def _create_implicit_data(self, data):\n",
    "        return data.loc[(data['rating'] >= 4)]\n",
    "        \n",
    "    def _implicit_to_csr(self, implicit_data):\n",
    "        users = implicit_ratings[\"user_id\"]\n",
    "        movies = implicit_ratings[\"movie_id\"]\n",
    "        user_item = sp.coo_matrix((np.ones_like(users), (users, movies)))\n",
    "        user_item_t_csr = user_item.T.tocsr()\n",
    "        user_item_csr = user_item.tocsr()\n",
    "        return user_item_csr\n",
    "    \n",
    "    def print_history(self, user_id):\n",
    "        print(f'User {user_id} watched:')\n",
    "        for movie_id in self.historical_data.getrow(user_id).indices:\n",
    "            print(movie_name(movie_id))\n",
    "        print()\n",
    "        \n",
    "    def print_recommendations(self, user_id, k=10):\n",
    "        watched = {x for x in self.historical_data.getrow(user_id).indices}\n",
    "        predicted_ratings = np.dot(self.movie_embedding, self.user_embedding[user_id]) / np.linalg.norm(self.movie_embedding, axis=1)\n",
    "        sorted_indices = np.argsort(predicted_ratings)\n",
    "        predicted = 0\n",
    "        print(f'Recommended movies for user {user_id}')\n",
    "        for movie_id in reversed(sorted_indices):\n",
    "            if movie_id not in watched:\n",
    "                predicted += 1\n",
    "                print(movie_name(movie_id))\n",
    "            if k <= predicted:\n",
    "                break\n",
    "                \n",
    "    def print_similar_movies(self, movie_id, k=10):\n",
    "        predicted_ratings = np.dot(self.movie_embedding, self.movie_embedding[movie_id]) / np.linalg.norm(self.movie_embedding, axis=1)\n",
    "        sorted_indices = np.argsort(predicted_ratings)\n",
    "        print(f'Similar movies to movie {movie_name(movie_id)}')\n",
    "        for movie_id in list(reversed(sorted_indices))[:k]:\n",
    "            print(movie_name(movie_id))"
   ]
  },
  {
   "cell_type": "markdown",
   "metadata": {},
   "source": [
    "### Задание 1. Не использую готовые решения, реализовать SVD разложение используя SGD на explicit данных"
   ]
  },
  {
   "cell_type": "code",
   "execution_count": 395,
   "metadata": {},
   "outputs": [],
   "source": [
    "class SvdSgd(Model):\n",
    "    \n",
    "    def __init__(self, n_users, n_movies, dim=64, training_epochs=10, lr=1e-3, reg=1e-5, early_stopping_epochs=3):\n",
    "        super().__init__(n_users, n_movies, dim, training_epochs, lr, reg, early_stopping_epochs)\n",
    "    \n",
    "    def fit(self, train_data, val_data):\n",
    "        self._init_embeddings(train_data)\n",
    "        self._store_state()\n",
    "        self.historical_data = self._implicit_to_csr(self._create_implicit_data(train_data))\n",
    "        best_rmse, best_epoch = np.inf, -1\n",
    "        for epoch in range(self.epochs):\n",
    "            print(f'Training epoch {epoch + 1}:', flush=True)\n",
    "            indices = np.random.permutation(train_data.index)\n",
    "            total_se = 0\n",
    "            \n",
    "            for ind in tqdm(indices):\n",
    "                row = train_data.loc[ind]\n",
    "                user, movie, rating = row['user_id'], row['movie_id'], row['rating']\n",
    "                prediction = self._predict_rating(user, movie)\n",
    "                error = prediction - rating\n",
    "                self._update_embeddings(user, movie, error)\n",
    "                total_se += error ** 2\n",
    "            \n",
    "            mean_se = total_se / len(indices)\n",
    "            rmse = np.sqrt(mean_se)\n",
    "            validation_rmse = self.evaluate(val_data)\n",
    "            \n",
    "            print(f'After epoch {epoch + 1}:\\n'\n",
    "                  f'Training RMSE = {rmse:.4f}\\n'\n",
    "                  f'Validation RMSE = {validation_rmse:.4f}')\n",
    "            if validation_rmse < best_rmse:\n",
    "                best_rmse = validation_rmse\n",
    "                best_epoch = epoch\n",
    "                print(f'RMSE improved! Storing the parameters.')\n",
    "                self._store_state()\n",
    "            elif self.early_stopping_epochs <= epoch - best_epoch:\n",
    "                print(f'No validation improvements for {epoch - best_epoch} epochs. Stopping.')\n",
    "                self._restore_state()\n",
    "                break\n",
    "        print(f'Best validation RMSE: {best_rmse:.4f}')\n",
    "            \n",
    "    def evaluate(self, data):\n",
    "        print(f'Running evaluation:', flush=True)\n",
    "        total_se = 0\n",
    "        for ind in tqdm(data.index):\n",
    "            row = data.loc[ind]\n",
    "            user, movie, rating = row['user_id'], row['movie_id'], row['rating']\n",
    "            prediction = self._predict_rating(user, movie)\n",
    "            error = prediction - rating\n",
    "            total_se += error ** 2\n",
    "        mean_se = total_se / len(data.index)\n",
    "        rmse = np.sqrt(mean_se)\n",
    "        return rmse"
   ]
  },
  {
   "cell_type": "code",
   "execution_count": 396,
   "metadata": {},
   "outputs": [],
   "source": [
    "model = SvdSgd(eval_data.n_users, eval_data.n_movies, training_epochs=20, lr=0.005, reg=0.01)"
   ]
  },
  {
   "cell_type": "code",
   "execution_count": 397,
   "metadata": {},
   "outputs": [
    {
     "name": "stdout",
     "output_type": "stream",
     "text": [
      "Training epoch 1:\n"
     ]
    },
    {
     "name": "stderr",
     "output_type": "stream",
     "text": [
      "100%|██████████| 800167/800167 [01:22<00:00, 9662.52it/s] "
     ]
    },
    {
     "name": "stdout",
     "output_type": "stream",
     "text": [
      "Running evaluation:\n"
     ]
    },
    {
     "name": "stderr",
     "output_type": "stream",
     "text": [
      "\n",
      "100%|██████████| 100020/100020 [00:08<00:00, 11672.15it/s]"
     ]
    },
    {
     "name": "stdout",
     "output_type": "stream",
     "text": [
      "After epoch 1:\n",
      "Training RMSE = 0.9864\n",
      "Validation RMSE = 0.9375\n",
      "RMSE improved! Storing the parameters.\n",
      "Training epoch 2:\n"
     ]
    },
    {
     "name": "stderr",
     "output_type": "stream",
     "text": [
      "\n",
      "100%|██████████| 800167/800167 [01:24<00:00, 9435.36it/s]"
     ]
    },
    {
     "name": "stdout",
     "output_type": "stream",
     "text": [
      "Running evaluation:\n"
     ]
    },
    {
     "name": "stderr",
     "output_type": "stream",
     "text": [
      "\n",
      "100%|██████████| 100020/100020 [00:08<00:00, 11797.99it/s]"
     ]
    },
    {
     "name": "stdout",
     "output_type": "stream",
     "text": [
      "After epoch 2:\n",
      "Training RMSE = 0.9248\n",
      "Validation RMSE = 0.9201\n",
      "RMSE improved! Storing the parameters.\n",
      "Training epoch 3:\n"
     ]
    },
    {
     "name": "stderr",
     "output_type": "stream",
     "text": [
      "\n",
      "100%|██████████| 800167/800167 [01:23<00:00, 9549.50it/s] "
     ]
    },
    {
     "name": "stdout",
     "output_type": "stream",
     "text": [
      "Running evaluation:\n"
     ]
    },
    {
     "name": "stderr",
     "output_type": "stream",
     "text": [
      "\n",
      "100%|██████████| 100020/100020 [00:08<00:00, 12031.32it/s]"
     ]
    },
    {
     "name": "stdout",
     "output_type": "stream",
     "text": [
      "After epoch 3:\n",
      "Training RMSE = 0.9113\n",
      "Validation RMSE = 0.9136\n",
      "RMSE improved! Storing the parameters.\n",
      "Training epoch 4:\n"
     ]
    },
    {
     "name": "stderr",
     "output_type": "stream",
     "text": [
      "\n",
      "100%|██████████| 800167/800167 [01:25<00:00, 9336.31it/s]"
     ]
    },
    {
     "name": "stdout",
     "output_type": "stream",
     "text": [
      "Running evaluation:\n"
     ]
    },
    {
     "name": "stderr",
     "output_type": "stream",
     "text": [
      "\n",
      "100%|██████████| 100020/100020 [00:08<00:00, 11691.28it/s]"
     ]
    },
    {
     "name": "stdout",
     "output_type": "stream",
     "text": [
      "After epoch 4:\n",
      "Training RMSE = 0.9043\n",
      "Validation RMSE = 0.9095\n",
      "RMSE improved! Storing the parameters.\n",
      "Training epoch 5:\n"
     ]
    },
    {
     "name": "stderr",
     "output_type": "stream",
     "text": [
      "\n",
      "100%|██████████| 800167/800167 [01:23<00:00, 9579.63it/s] "
     ]
    },
    {
     "name": "stdout",
     "output_type": "stream",
     "text": [
      "Running evaluation:\n"
     ]
    },
    {
     "name": "stderr",
     "output_type": "stream",
     "text": [
      "\n",
      "100%|██████████| 100020/100020 [00:08<00:00, 11697.34it/s]"
     ]
    },
    {
     "name": "stdout",
     "output_type": "stream",
     "text": [
      "After epoch 5:\n",
      "Training RMSE = 0.8992\n",
      "Validation RMSE = 0.9068\n",
      "RMSE improved! Storing the parameters.\n",
      "Training epoch 6:\n"
     ]
    },
    {
     "name": "stderr",
     "output_type": "stream",
     "text": [
      "\n",
      "100%|██████████| 800167/800167 [01:24<00:00, 9417.04it/s]"
     ]
    },
    {
     "name": "stdout",
     "output_type": "stream",
     "text": [
      "Running evaluation:\n"
     ]
    },
    {
     "name": "stderr",
     "output_type": "stream",
     "text": [
      "\n",
      "100%|██████████| 100020/100020 [00:08<00:00, 11776.49it/s]"
     ]
    },
    {
     "name": "stdout",
     "output_type": "stream",
     "text": [
      "After epoch 6:\n",
      "Training RMSE = 0.8944\n",
      "Validation RMSE = 0.9041\n",
      "RMSE improved! Storing the parameters.\n",
      "Training epoch 7:\n"
     ]
    },
    {
     "name": "stderr",
     "output_type": "stream",
     "text": [
      "\n",
      "100%|██████████| 800167/800167 [01:25<00:00, 9385.06it/s]"
     ]
    },
    {
     "name": "stdout",
     "output_type": "stream",
     "text": [
      "Running evaluation:\n"
     ]
    },
    {
     "name": "stderr",
     "output_type": "stream",
     "text": [
      "\n",
      "100%|██████████| 100020/100020 [00:08<00:00, 11866.34it/s]"
     ]
    },
    {
     "name": "stdout",
     "output_type": "stream",
     "text": [
      "After epoch 7:\n",
      "Training RMSE = 0.8896\n",
      "Validation RMSE = 0.9011\n",
      "RMSE improved! Storing the parameters.\n",
      "Training epoch 8:\n"
     ]
    },
    {
     "name": "stderr",
     "output_type": "stream",
     "text": [
      "\n",
      "100%|██████████| 800167/800167 [01:24<00:00, 9443.68it/s] "
     ]
    },
    {
     "name": "stdout",
     "output_type": "stream",
     "text": [
      "Running evaluation:\n"
     ]
    },
    {
     "name": "stderr",
     "output_type": "stream",
     "text": [
      "\n",
      "100%|██████████| 100020/100020 [00:08<00:00, 11627.23it/s]"
     ]
    },
    {
     "name": "stdout",
     "output_type": "stream",
     "text": [
      "After epoch 8:\n",
      "Training RMSE = 0.8843\n",
      "Validation RMSE = 0.8980\n",
      "RMSE improved! Storing the parameters.\n",
      "Training epoch 9:\n"
     ]
    },
    {
     "name": "stderr",
     "output_type": "stream",
     "text": [
      "\n",
      "100%|██████████| 800167/800167 [01:27<00:00, 9155.75it/s]"
     ]
    },
    {
     "name": "stdout",
     "output_type": "stream",
     "text": [
      "Running evaluation:\n"
     ]
    },
    {
     "name": "stderr",
     "output_type": "stream",
     "text": [
      "\n",
      "100%|██████████| 100020/100020 [00:08<00:00, 11440.27it/s]"
     ]
    },
    {
     "name": "stdout",
     "output_type": "stream",
     "text": [
      "After epoch 9:\n",
      "Training RMSE = 0.8784\n",
      "Validation RMSE = 0.8944\n",
      "RMSE improved! Storing the parameters.\n",
      "Training epoch 10:\n"
     ]
    },
    {
     "name": "stderr",
     "output_type": "stream",
     "text": [
      "\n",
      "100%|██████████| 800167/800167 [01:25<00:00, 9353.45it/s]"
     ]
    },
    {
     "name": "stdout",
     "output_type": "stream",
     "text": [
      "Running evaluation:\n"
     ]
    },
    {
     "name": "stderr",
     "output_type": "stream",
     "text": [
      "\n",
      "100%|██████████| 100020/100020 [00:08<00:00, 11561.78it/s]"
     ]
    },
    {
     "name": "stdout",
     "output_type": "stream",
     "text": [
      "After epoch 10:\n",
      "Training RMSE = 0.8717\n",
      "Validation RMSE = 0.8909\n",
      "RMSE improved! Storing the parameters.\n",
      "Training epoch 11:\n"
     ]
    },
    {
     "name": "stderr",
     "output_type": "stream",
     "text": [
      "\n",
      "100%|██████████| 800167/800167 [01:24<00:00, 9458.15it/s]"
     ]
    },
    {
     "name": "stdout",
     "output_type": "stream",
     "text": [
      "Running evaluation:\n"
     ]
    },
    {
     "name": "stderr",
     "output_type": "stream",
     "text": [
      "\n",
      "100%|██████████| 100020/100020 [00:08<00:00, 11619.88it/s]"
     ]
    },
    {
     "name": "stdout",
     "output_type": "stream",
     "text": [
      "After epoch 11:\n",
      "Training RMSE = 0.8640\n",
      "Validation RMSE = 0.8868\n",
      "RMSE improved! Storing the parameters.\n",
      "Training epoch 12:\n"
     ]
    },
    {
     "name": "stderr",
     "output_type": "stream",
     "text": [
      "\n",
      "100%|██████████| 800167/800167 [01:25<00:00, 9334.90it/s]"
     ]
    },
    {
     "name": "stdout",
     "output_type": "stream",
     "text": [
      "Running evaluation:\n"
     ]
    },
    {
     "name": "stderr",
     "output_type": "stream",
     "text": [
      "\n",
      "100%|██████████| 100020/100020 [00:08<00:00, 11569.85it/s]"
     ]
    },
    {
     "name": "stdout",
     "output_type": "stream",
     "text": [
      "After epoch 12:\n",
      "Training RMSE = 0.8553\n",
      "Validation RMSE = 0.8827\n",
      "RMSE improved! Storing the parameters.\n",
      "Training epoch 13:\n"
     ]
    },
    {
     "name": "stderr",
     "output_type": "stream",
     "text": [
      "\n",
      "100%|██████████| 800167/800167 [01:26<00:00, 9267.55it/s]"
     ]
    },
    {
     "name": "stdout",
     "output_type": "stream",
     "text": [
      "Running evaluation:\n"
     ]
    },
    {
     "name": "stderr",
     "output_type": "stream",
     "text": [
      "\n",
      "100%|██████████| 100020/100020 [00:08<00:00, 11991.73it/s]"
     ]
    },
    {
     "name": "stdout",
     "output_type": "stream",
     "text": [
      "After epoch 13:\n",
      "Training RMSE = 0.8455\n",
      "Validation RMSE = 0.8782\n",
      "RMSE improved! Storing the parameters.\n",
      "Training epoch 14:\n"
     ]
    },
    {
     "name": "stderr",
     "output_type": "stream",
     "text": [
      "\n",
      "100%|██████████| 800167/800167 [01:25<00:00, 9401.81it/s]"
     ]
    },
    {
     "name": "stdout",
     "output_type": "stream",
     "text": [
      "Running evaluation:\n"
     ]
    },
    {
     "name": "stderr",
     "output_type": "stream",
     "text": [
      "\n",
      "100%|██████████| 100020/100020 [00:08<00:00, 11921.95it/s]"
     ]
    },
    {
     "name": "stdout",
     "output_type": "stream",
     "text": [
      "After epoch 14:\n",
      "Training RMSE = 0.8349\n",
      "Validation RMSE = 0.8741\n",
      "RMSE improved! Storing the parameters.\n",
      "Training epoch 15:\n"
     ]
    },
    {
     "name": "stderr",
     "output_type": "stream",
     "text": [
      "\n",
      "100%|██████████| 800167/800167 [01:24<00:00, 9430.65it/s] "
     ]
    },
    {
     "name": "stdout",
     "output_type": "stream",
     "text": [
      "Running evaluation:\n"
     ]
    },
    {
     "name": "stderr",
     "output_type": "stream",
     "text": [
      "\n",
      "100%|██████████| 100020/100020 [00:08<00:00, 11814.70it/s]"
     ]
    },
    {
     "name": "stdout",
     "output_type": "stream",
     "text": [
      "After epoch 15:\n",
      "Training RMSE = 0.8236\n",
      "Validation RMSE = 0.8701\n",
      "RMSE improved! Storing the parameters.\n",
      "Training epoch 16:\n"
     ]
    },
    {
     "name": "stderr",
     "output_type": "stream",
     "text": [
      "\n",
      "100%|██████████| 800167/800167 [01:25<00:00, 9324.62it/s]"
     ]
    },
    {
     "name": "stdout",
     "output_type": "stream",
     "text": [
      "Running evaluation:\n"
     ]
    },
    {
     "name": "stderr",
     "output_type": "stream",
     "text": [
      "\n",
      "100%|██████████| 100020/100020 [00:08<00:00, 11643.82it/s]"
     ]
    },
    {
     "name": "stdout",
     "output_type": "stream",
     "text": [
      "After epoch 16:\n",
      "Training RMSE = 0.8118\n",
      "Validation RMSE = 0.8669\n",
      "RMSE improved! Storing the parameters.\n",
      "Training epoch 17:\n"
     ]
    },
    {
     "name": "stderr",
     "output_type": "stream",
     "text": [
      "\n",
      "100%|██████████| 800167/800167 [01:26<00:00, 9259.16it/s]"
     ]
    },
    {
     "name": "stdout",
     "output_type": "stream",
     "text": [
      "Running evaluation:\n"
     ]
    },
    {
     "name": "stderr",
     "output_type": "stream",
     "text": [
      "\n",
      "100%|██████████| 100020/100020 [00:08<00:00, 11694.59it/s]"
     ]
    },
    {
     "name": "stdout",
     "output_type": "stream",
     "text": [
      "After epoch 17:\n",
      "Training RMSE = 0.7995\n",
      "Validation RMSE = 0.8640\n",
      "RMSE improved! Storing the parameters.\n",
      "Training epoch 18:\n"
     ]
    },
    {
     "name": "stderr",
     "output_type": "stream",
     "text": [
      "\n",
      "100%|██████████| 800167/800167 [01:26<00:00, 9208.40it/s]"
     ]
    },
    {
     "name": "stdout",
     "output_type": "stream",
     "text": [
      "Running evaluation:\n"
     ]
    },
    {
     "name": "stderr",
     "output_type": "stream",
     "text": [
      "\n",
      "100%|██████████| 100020/100020 [00:08<00:00, 11901.89it/s]"
     ]
    },
    {
     "name": "stdout",
     "output_type": "stream",
     "text": [
      "After epoch 18:\n",
      "Training RMSE = 0.7870\n",
      "Validation RMSE = 0.8620\n",
      "RMSE improved! Storing the parameters.\n",
      "Training epoch 19:\n"
     ]
    },
    {
     "name": "stderr",
     "output_type": "stream",
     "text": [
      "\n",
      "100%|██████████| 800167/800167 [01:26<00:00, 9248.22it/s]"
     ]
    },
    {
     "name": "stdout",
     "output_type": "stream",
     "text": [
      "Running evaluation:\n"
     ]
    },
    {
     "name": "stderr",
     "output_type": "stream",
     "text": [
      "\n",
      "100%|██████████| 100020/100020 [00:08<00:00, 11636.83it/s]"
     ]
    },
    {
     "name": "stdout",
     "output_type": "stream",
     "text": [
      "After epoch 19:\n",
      "Training RMSE = 0.7743\n",
      "Validation RMSE = 0.8603\n",
      "RMSE improved! Storing the parameters.\n",
      "Training epoch 20:\n"
     ]
    },
    {
     "name": "stderr",
     "output_type": "stream",
     "text": [
      "\n",
      "100%|██████████| 800167/800167 [01:25<00:00, 9332.75it/s]"
     ]
    },
    {
     "name": "stdout",
     "output_type": "stream",
     "text": [
      "Running evaluation:\n"
     ]
    },
    {
     "name": "stderr",
     "output_type": "stream",
     "text": [
      "\n",
      "100%|██████████| 100020/100020 [00:08<00:00, 11509.53it/s]"
     ]
    },
    {
     "name": "stdout",
     "output_type": "stream",
     "text": [
      "After epoch 20:\n",
      "Training RMSE = 0.7615\n",
      "Validation RMSE = 0.8596\n",
      "RMSE improved! Storing the parameters.\n",
      "Best validation RMSE: 0.8596\n"
     ]
    },
    {
     "name": "stderr",
     "output_type": "stream",
     "text": [
      "\n"
     ]
    }
   ],
   "source": [
    "model.fit(eval_data.train_ratings, eval_data.val_ratings)"
   ]
  },
  {
   "cell_type": "code",
   "execution_count": 398,
   "metadata": {},
   "outputs": [
    {
     "name": "stdout",
     "output_type": "stream",
     "text": [
      "Running evaluation:\n"
     ]
    },
    {
     "name": "stderr",
     "output_type": "stream",
     "text": [
      "100%|██████████| 100022/100022 [00:08<00:00, 11681.19it/s]"
     ]
    },
    {
     "name": "stdout",
     "output_type": "stream",
     "text": [
      "RMSE on test data: 0.8603\n"
     ]
    },
    {
     "name": "stderr",
     "output_type": "stream",
     "text": [
      "\n"
     ]
    }
   ],
   "source": [
    "print(f\"RMSE on test data: {model.evaluate(eval_data.test_ratings):.4f}\")"
   ]
  },
  {
   "cell_type": "code",
   "execution_count": 399,
   "metadata": {},
   "outputs": [],
   "source": [
    "def print_unbiased_recommendations(model, user_id, k=10):\n",
    "    watched = {x for x in model.historical_data.getrow(user_id).indices}\n",
    "    predicted_ratings = np.dot(model.movie_embedding, model.user_embedding[user_id])\n",
    "    sorted_indices = np.argsort(predicted_ratings)\n",
    "    predicted = 0\n",
    "    print(f'Recommended unbiased movies for user {user_id}')\n",
    "    for movie_id in reversed(sorted_indices):\n",
    "        if movie_id not in watched:\n",
    "            predicted += 1\n",
    "            print(predicted_ratings[movie_id], movie_name(movie_id))\n",
    "        if k <= predicted:\n",
    "            break\n",
    "    print()"
   ]
  },
  {
   "cell_type": "code",
   "execution_count": 400,
   "metadata": {
    "scrolled": true
   },
   "outputs": [
    {
     "name": "stdout",
     "output_type": "stream",
     "text": [
      "User 4 watched:\n",
      "Star Wars: Episode IV - A New Hope (1977) | Action|Adventure|Fantasy|Sci-Fi\n",
      "Jurassic Park (1993) | Action|Adventure|Sci-Fi\n",
      "Die Hard (1988) | Action|Thriller\n",
      "E.T. the Extra-Terrestrial (1982) | Children's|Drama|Fantasy|Sci-Fi\n",
      "Raiders of the Lost Ark (1981) | Action|Adventure\n",
      "Good, The Bad and The Ugly, The (1966) | Action|Western\n",
      "Alien (1979) | Action|Horror|Sci-Fi|Thriller\n",
      "Terminator, The (1984) | Action|Sci-Fi|Thriller\n",
      "Jaws (1975) | Action|Horror\n",
      "Rocky (1976) | Action|Drama\n",
      "Saving Private Ryan (1998) | Action|Drama|War\n",
      "King Kong (1933) | Action|Adventure|Horror\n",
      "Run Lola Run (Lola rennt) (1998) | Action|Crime|Romance\n",
      "Goldfinger (1964) | Action\n",
      "Fistful of Dollars, A (1964) | Action|Western\n",
      "Thelma & Louise (1991) | Action|Drama\n",
      "Hustler, The (1961) | Drama\n",
      "Mad Max (1979) | Action|Sci-Fi\n",
      "\n",
      "Recommended unbiased movies for user 4\n",
      "0.7415357031205381 Room with a View, A (1986) | Drama|Romance\n",
      "0.6829720269647984 Nashville (1975) | Drama|Musical\n",
      "0.6669970430090664 On the Waterfront (1954) | Crime|Drama\n",
      "0.6663864446036165 Clockwork Orange, A (1971) | Sci-Fi\n",
      "0.6598045399258933 Gold Rush, The (1925) | Comedy\n",
      "0.6576297506605455 Hamlet (1948) | Drama\n",
      "0.6512594179513163 General, The (1927) | Comedy\n",
      "0.6417661601268653 Crumb (1994) | Documentary\n",
      "0.6405255474488887 Battleship Potemkin, The (Bronenosets Potyomkin) (1925) | Drama|War\n",
      "0.6391681736569316 Seventh Seal, The (Sjunde inseglet, Det) (1957) | Drama\n",
      "\n",
      "Recommended movies for user 4\n",
      "Reluctant Debutante, The (1958) | Comedy|Drama\n",
      "Go Now (1995) | Drama\n",
      "Marcello Mastroianni: I Remember Yes, I Remember (1997) | Documentary\n",
      "Seven Chances (1925) | Comedy\n",
      "Freedom for Us (� nous la libert� ) (1931) | Comedy\n",
      "Wings (1927) | Drama|Romance|War\n",
      "Lodger, The (1926) | Thriller\n",
      "Love Bewitched, A (El Amor Brujo) (1986) | Musical\n",
      "Circus, The (1928) | Comedy\n",
      "Othello (1952) | Drama\n"
     ]
    }
   ],
   "source": [
    "model.print_history(4)\n",
    "\n",
    "print_unbiased_recommendations(model, 4)\n",
    "model.print_recommendations(4)"
   ]
  },
  {
   "cell_type": "code",
   "execution_count": 401,
   "metadata": {},
   "outputs": [
    {
     "name": "stdout",
     "output_type": "stream",
     "text": [
      "Similar movies to movie Toy Story (1995) | Animation|Children's|Comedy\n",
      "Toy Story (1995) | Animation|Children's|Comedy\n",
      "Toy Story 2 (1999) | Animation|Children's|Comedy\n",
      "Babe (1995) | Children's|Comedy|Drama\n",
      "Big (1988) | Comedy|Fantasy\n",
      "Bug's Life, A (1998) | Animation|Children's|Comedy\n",
      "Chicken Run (2000) | Animation|Children's|Comedy\n",
      "Return of the Pink Panther, The (1974) | Comedy\n",
      "Mulan (1998) | Animation|Children's\n",
      "Aladdin (1992) | Animation|Children's|Comedy|Musical\n",
      "Cocoon (1985) | Comedy|Sci-Fi\n"
     ]
    }
   ],
   "source": [
    "model.print_similar_movies(1)"
   ]
  },
  {
   "cell_type": "code",
   "execution_count": 402,
   "metadata": {
    "scrolled": true
   },
   "outputs": [
    {
     "name": "stdout",
     "output_type": "stream",
     "text": [
      "User 7 watched:\n",
      "Heat (1995) | Action|Crime|Thriller\n",
      "Braveheart (1995) | Action|Drama|War\n",
      "Clear and Present Danger (1994) | Action|Adventure|Thriller\n",
      "True Lies (1994) | Action|Adventure|Comedy|Romance\n",
      "Demolition Man (1993) | Action|Sci-Fi\n",
      "Fugitive, The (1993) | Action|Thriller\n",
      "In the Line of Fire (1993) | Action|Thriller\n",
      "Jurassic Park (1993) | Action|Adventure|Sci-Fi\n",
      "Terminator 2: Judgment Day (1991) | Action|Sci-Fi|Thriller\n",
      "Mission: Impossible (1996) | Action|Adventure|Mystery\n",
      "Rock, The (1996) | Action|Adventure|Thriller\n",
      "Supercop (1992) | Action|Thriller\n",
      "Star Wars: Episode V - The Empire Strikes Back (1980) | Action|Adventure|Drama|Sci-Fi|War\n",
      "Godfather: Part II, The (1974) | Action|Crime|Drama\n",
      "Back to the Future (1985) | Comedy|Sci-Fi\n",
      "Face/Off (1997) | Action|Sci-Fi|Thriller\n",
      "Men in Black (1997) | Action|Adventure|Comedy|Sci-Fi\n",
      "Hunt for Red October, The (1990) | Action|Thriller\n",
      "Tomorrow Never Dies (1997) | Action|Romance|Thriller\n",
      "Exorcist, The (1973) | Horror\n",
      "Saving Private Ryan (1998) | Action|Drama|War\n",
      "Enemy of the State (1998) | Action|Thriller\n",
      "Matrix, The (1999) | Action|Sci-Fi|Thriller\n",
      "Total Recall (1990) | Action|Adventure|Sci-Fi|Thriller\n",
      "Patriot Games (1992) | Action|Thriller\n",
      "Patriot, The (2000) | Action|Drama|War\n",
      "\n",
      "Recommended unbiased movies for user 7\n",
      "0.6956113793961329 Annie Hall (1977) | Comedy|Romance\n",
      "0.6765115230157372 Chinatown (1974) | Film-Noir|Mystery|Thriller\n",
      "0.6713955513922849 Five Easy Pieces (1970) | Drama\n",
      "0.6579325531486572 Manchurian Candidate, The (1962) | Film-Noir|Thriller\n",
      "0.6557895226859219 Apostle, The (1997) | Drama\n",
      "0.6556946427787331 Room with a View, A (1986) | Drama|Romance\n",
      "0.651206645620038 Seventh Seal, The (Sjunde inseglet, Det) (1957) | Drama\n",
      "0.6454779822006161 Streetcar Named Desire, A (1951) | Drama\n",
      "0.6271330379648341 Citizen Kane (1941) | Drama\n",
      "0.6204493555107866 Best Years of Our Lives, The (1946) | Drama|War\n",
      "\n",
      "Recommended movies for user 7\n"
     ]
    },
    {
     "ename": "IndexError",
     "evalue": "single positional indexer is out-of-bounds",
     "output_type": "error",
     "traceback": [
      "\u001b[0;31m---------------------------------------------------------------------------\u001b[0m",
      "\u001b[0;31mIndexError\u001b[0m                                Traceback (most recent call last)",
      "\u001b[0;32m<ipython-input-402-b464a4bfc5ea>\u001b[0m in \u001b[0;36m<module>\u001b[0;34m\u001b[0m\n\u001b[1;32m      2\u001b[0m \u001b[0;34m\u001b[0m\u001b[0m\n\u001b[1;32m      3\u001b[0m \u001b[0mprint_unbiased_recommendations\u001b[0m\u001b[0;34m(\u001b[0m\u001b[0mmodel\u001b[0m\u001b[0;34m,\u001b[0m \u001b[0;36m7\u001b[0m\u001b[0;34m)\u001b[0m\u001b[0;34m\u001b[0m\u001b[0;34m\u001b[0m\u001b[0m\n\u001b[0;32m----> 4\u001b[0;31m \u001b[0mmodel\u001b[0m\u001b[0;34m.\u001b[0m\u001b[0mprint_recommendations\u001b[0m\u001b[0;34m(\u001b[0m\u001b[0;36m7\u001b[0m\u001b[0;34m)\u001b[0m\u001b[0;34m\u001b[0m\u001b[0;34m\u001b[0m\u001b[0m\n\u001b[0m",
      "\u001b[0;32m<ipython-input-394-310737d0bbd4>\u001b[0m in \u001b[0;36mprint_recommendations\u001b[0;34m(self, user_id, k)\u001b[0m\n\u001b[1;32m     81\u001b[0m             \u001b[0;32mif\u001b[0m \u001b[0mmovie_id\u001b[0m \u001b[0;32mnot\u001b[0m \u001b[0;32min\u001b[0m \u001b[0mwatched\u001b[0m\u001b[0;34m:\u001b[0m\u001b[0;34m\u001b[0m\u001b[0;34m\u001b[0m\u001b[0m\n\u001b[1;32m     82\u001b[0m                 \u001b[0mpredicted\u001b[0m \u001b[0;34m+=\u001b[0m \u001b[0;36m1\u001b[0m\u001b[0;34m\u001b[0m\u001b[0;34m\u001b[0m\u001b[0m\n\u001b[0;32m---> 83\u001b[0;31m                 \u001b[0mprint\u001b[0m\u001b[0;34m(\u001b[0m\u001b[0mmovie_name\u001b[0m\u001b[0;34m(\u001b[0m\u001b[0mmovie_id\u001b[0m\u001b[0;34m)\u001b[0m\u001b[0;34m)\u001b[0m\u001b[0;34m\u001b[0m\u001b[0;34m\u001b[0m\u001b[0m\n\u001b[0m\u001b[1;32m     84\u001b[0m             \u001b[0;32mif\u001b[0m \u001b[0mk\u001b[0m \u001b[0;34m<=\u001b[0m \u001b[0mpredicted\u001b[0m\u001b[0;34m:\u001b[0m\u001b[0;34m\u001b[0m\u001b[0;34m\u001b[0m\u001b[0m\n\u001b[1;32m     85\u001b[0m                 \u001b[0;32mbreak\u001b[0m\u001b[0;34m\u001b[0m\u001b[0;34m\u001b[0m\u001b[0m\n",
      "\u001b[0;32m<ipython-input-394-310737d0bbd4>\u001b[0m in \u001b[0;36mmovie_name\u001b[0;34m(movie_id)\u001b[0m\n\u001b[1;32m      2\u001b[0m \u001b[0;34m\u001b[0m\u001b[0m\n\u001b[1;32m      3\u001b[0m \u001b[0;32mdef\u001b[0m \u001b[0mmovie_name\u001b[0m\u001b[0;34m(\u001b[0m\u001b[0mmovie_id\u001b[0m\u001b[0;34m)\u001b[0m\u001b[0;34m:\u001b[0m\u001b[0;34m\u001b[0m\u001b[0;34m\u001b[0m\u001b[0m\n\u001b[0;32m----> 4\u001b[0;31m     \u001b[0;32mreturn\u001b[0m \u001b[0;34mf'{movie_info[movie_info[\"movie_id\"] == movie_id][\"name\"].iloc[0]} | '\u001b[0m\u001b[0;31m \u001b[0m\u001b[0;31m\\\u001b[0m\u001b[0;34m\u001b[0m\u001b[0;34m\u001b[0m\u001b[0m\n\u001b[0m\u001b[1;32m      5\u001b[0m            \u001b[0;34mf'{movie_info[movie_info[\"movie_id\"] == movie_id][\"category\"].iloc[0]}'\u001b[0m\u001b[0;34m\u001b[0m\u001b[0;34m\u001b[0m\u001b[0m\n\u001b[1;32m      6\u001b[0m \u001b[0;34m\u001b[0m\u001b[0m\n",
      "\u001b[0;32m~/anaconda3/envs/recsys/lib/python3.8/site-packages/pandas/core/indexing.py\u001b[0m in \u001b[0;36m__getitem__\u001b[0;34m(self, key)\u001b[0m\n\u001b[1;32m    877\u001b[0m \u001b[0;34m\u001b[0m\u001b[0m\n\u001b[1;32m    878\u001b[0m             \u001b[0mmaybe_callable\u001b[0m \u001b[0;34m=\u001b[0m \u001b[0mcom\u001b[0m\u001b[0;34m.\u001b[0m\u001b[0mapply_if_callable\u001b[0m\u001b[0;34m(\u001b[0m\u001b[0mkey\u001b[0m\u001b[0;34m,\u001b[0m \u001b[0mself\u001b[0m\u001b[0;34m.\u001b[0m\u001b[0mobj\u001b[0m\u001b[0;34m)\u001b[0m\u001b[0;34m\u001b[0m\u001b[0;34m\u001b[0m\u001b[0m\n\u001b[0;32m--> 879\u001b[0;31m             \u001b[0;32mreturn\u001b[0m \u001b[0mself\u001b[0m\u001b[0;34m.\u001b[0m\u001b[0m_getitem_axis\u001b[0m\u001b[0;34m(\u001b[0m\u001b[0mmaybe_callable\u001b[0m\u001b[0;34m,\u001b[0m \u001b[0maxis\u001b[0m\u001b[0;34m=\u001b[0m\u001b[0maxis\u001b[0m\u001b[0;34m)\u001b[0m\u001b[0;34m\u001b[0m\u001b[0;34m\u001b[0m\u001b[0m\n\u001b[0m\u001b[1;32m    880\u001b[0m \u001b[0;34m\u001b[0m\u001b[0m\n\u001b[1;32m    881\u001b[0m     \u001b[0;32mdef\u001b[0m \u001b[0m_is_scalar_access\u001b[0m\u001b[0;34m(\u001b[0m\u001b[0mself\u001b[0m\u001b[0;34m,\u001b[0m \u001b[0mkey\u001b[0m\u001b[0;34m:\u001b[0m \u001b[0mTuple\u001b[0m\u001b[0;34m)\u001b[0m\u001b[0;34m:\u001b[0m\u001b[0;34m\u001b[0m\u001b[0;34m\u001b[0m\u001b[0m\n",
      "\u001b[0;32m~/anaconda3/envs/recsys/lib/python3.8/site-packages/pandas/core/indexing.py\u001b[0m in \u001b[0;36m_getitem_axis\u001b[0;34m(self, key, axis)\u001b[0m\n\u001b[1;32m   1494\u001b[0m \u001b[0;34m\u001b[0m\u001b[0m\n\u001b[1;32m   1495\u001b[0m             \u001b[0;31m# validate the location\u001b[0m\u001b[0;34m\u001b[0m\u001b[0;34m\u001b[0m\u001b[0;34m\u001b[0m\u001b[0m\n\u001b[0;32m-> 1496\u001b[0;31m             \u001b[0mself\u001b[0m\u001b[0;34m.\u001b[0m\u001b[0m_validate_integer\u001b[0m\u001b[0;34m(\u001b[0m\u001b[0mkey\u001b[0m\u001b[0;34m,\u001b[0m \u001b[0maxis\u001b[0m\u001b[0;34m)\u001b[0m\u001b[0;34m\u001b[0m\u001b[0;34m\u001b[0m\u001b[0m\n\u001b[0m\u001b[1;32m   1497\u001b[0m \u001b[0;34m\u001b[0m\u001b[0m\n\u001b[1;32m   1498\u001b[0m             \u001b[0;32mreturn\u001b[0m \u001b[0mself\u001b[0m\u001b[0;34m.\u001b[0m\u001b[0mobj\u001b[0m\u001b[0;34m.\u001b[0m\u001b[0m_ixs\u001b[0m\u001b[0;34m(\u001b[0m\u001b[0mkey\u001b[0m\u001b[0;34m,\u001b[0m \u001b[0maxis\u001b[0m\u001b[0;34m=\u001b[0m\u001b[0maxis\u001b[0m\u001b[0;34m)\u001b[0m\u001b[0;34m\u001b[0m\u001b[0;34m\u001b[0m\u001b[0m\n",
      "\u001b[0;32m~/anaconda3/envs/recsys/lib/python3.8/site-packages/pandas/core/indexing.py\u001b[0m in \u001b[0;36m_validate_integer\u001b[0;34m(self, key, axis)\u001b[0m\n\u001b[1;32m   1435\u001b[0m         \u001b[0mlen_axis\u001b[0m \u001b[0;34m=\u001b[0m \u001b[0mlen\u001b[0m\u001b[0;34m(\u001b[0m\u001b[0mself\u001b[0m\u001b[0;34m.\u001b[0m\u001b[0mobj\u001b[0m\u001b[0;34m.\u001b[0m\u001b[0m_get_axis\u001b[0m\u001b[0;34m(\u001b[0m\u001b[0maxis\u001b[0m\u001b[0;34m)\u001b[0m\u001b[0;34m)\u001b[0m\u001b[0;34m\u001b[0m\u001b[0;34m\u001b[0m\u001b[0m\n\u001b[1;32m   1436\u001b[0m         \u001b[0;32mif\u001b[0m \u001b[0mkey\u001b[0m \u001b[0;34m>=\u001b[0m \u001b[0mlen_axis\u001b[0m \u001b[0;32mor\u001b[0m \u001b[0mkey\u001b[0m \u001b[0;34m<\u001b[0m \u001b[0;34m-\u001b[0m\u001b[0mlen_axis\u001b[0m\u001b[0;34m:\u001b[0m\u001b[0;34m\u001b[0m\u001b[0;34m\u001b[0m\u001b[0m\n\u001b[0;32m-> 1437\u001b[0;31m             \u001b[0;32mraise\u001b[0m \u001b[0mIndexError\u001b[0m\u001b[0;34m(\u001b[0m\u001b[0;34m\"single positional indexer is out-of-bounds\"\u001b[0m\u001b[0;34m)\u001b[0m\u001b[0;34m\u001b[0m\u001b[0;34m\u001b[0m\u001b[0m\n\u001b[0m\u001b[1;32m   1438\u001b[0m \u001b[0;34m\u001b[0m\u001b[0m\n\u001b[1;32m   1439\u001b[0m     \u001b[0;31m# -------------------------------------------------------------------\u001b[0m\u001b[0;34m\u001b[0m\u001b[0;34m\u001b[0m\u001b[0;34m\u001b[0m\u001b[0m\n",
      "\u001b[0;31mIndexError\u001b[0m: single positional indexer is out-of-bounds"
     ]
    }
   ],
   "source": [
    "model.print_history(7)\n",
    "\n",
    "print_unbiased_recommendations(model, 7)\n",
    "model.print_recommendations(7)"
   ]
  },
  {
   "cell_type": "markdown",
   "metadata": {},
   "source": [
    "### Задание 2. Не использую готовые решения, реализовать матричное разложение используя ALS на implicit данных"
   ]
  },
  {
   "cell_type": "code",
   "execution_count": 391,
   "metadata": {},
   "outputs": [],
   "source": [
    "class ALS(Model):\n",
    "\n",
    "    def __init__(\n",
    "        self, n_users, n_movies, \n",
    "        dim=64, training_epochs=10, lr=1e-3, reg=1e-5, early_stopping_epochs=3,\n",
    "        alpha=10\n",
    "    ):\n",
    "        super().__init__(n_users, n_movies, dim, training_epochs, lr, reg, early_stopping_epochs)\n",
    "        self.alpha = alpha\n",
    "        \n",
    "    def fit(self, train_data, val_data, unique_users, unique_movies):\n",
    "        self._init_embeddings(train_data)\n",
    "        self.bias = 0\n",
    "        self._store_state()\n",
    "        self.historical_data = self._implicit_to_csr(self._create_implicit_data(train_data))\n",
    "        best_rmse, best_epoch = np.inf, -1\n",
    "\n",
    "        for epoch in range(self.epochs):\n",
    "            print(f'Training epoch {epoch + 1}:', flush=True)\n",
    "            \n",
    "            print(f'Recomputing user embeddings...', flush=True)\n",
    "            movie_normalizer = (self.movie_embedding * self.movie_embedding).sum(axis=1)\n",
    "            for user_id in tqdm(unique_users):\n",
    "                user_watched = self.historical_data.getrow(user_id).toarray()[0]\n",
    "                confidence = user_watched * self.alpha + 1\n",
    "                normalizer = (movie_normalizer * confidence + self.reg).sum()\n",
    "                total_movie_embedding = (confidence.reshape(-1, 1) * self.movie_embedding).sum(axis=0)\n",
    "                self.user_embedding[user_id] = total_movie_embedding / normalizer\n",
    "                \n",
    "                \n",
    "            print(f'Recomputing movie embeddings...', flush=True)\n",
    "            user_normalizer = (self.user_embedding * self.user_embedding).sum(axis=1)\n",
    "            for movie_id in tqdm(unique_movies):\n",
    "                movies_watched_by = self.historical_data.getcol(movie_id).toarray()[:, 0]\n",
    "                confidence = movies_watched_by * self.alpha + 1\n",
    "                normalizer = (user_normalizer * confidence + self.reg).sum()\n",
    "                total_user_embedding = (confidence.reshape(-1, 1) * self.user_embedding).sum(axis=0)\n",
    "                self.movie_embedding[movie_id] = total_user_embedding / normalizer\n",
    "\n",
    "            validation_rmse = self.evaluate(val_data)\n",
    "            print(f'After epoch {epoch + 1}:\\n'\n",
    "                  f'Validation RMSE = {validation_rmse:.4f}')\n",
    "            if validation_rmse < best_rmse:\n",
    "                best_rmse = validation_rmse\n",
    "                best_epoch = epoch\n",
    "                print(f'RMSE improved! Storing the parameters.')\n",
    "                self._store_state()\n",
    "            elif self.early_stopping_epochs <= epoch - best_epoch:\n",
    "                print(f'No validation improvements for {epoch - best_epoch} epochs. Stopping.')\n",
    "                self._restore_state()\n",
    "                break\n",
    "            print()\n",
    "            \n",
    "        print(f'Best validation RMSE: {best_rmse:.4f}')\n",
    "        \n",
    "    def evaluate(self, data):\n",
    "        print(f'Running evaluation:', flush=True)\n",
    "        start_time = time()\n",
    "        proc = cpu_count()\n",
    "        chunks = np.array_split(data.index, proc)\n",
    "        with Parallel(proc) as pool:\n",
    "            results = pool(\n",
    "                delayed(self.evaluate_parallel)(data.loc[chunk])\n",
    "                for chunk in chunks\n",
    "            )\n",
    "        total_se = sum(result[0] for result in results)\n",
    "        count = sum(result[1] for result in results)\n",
    "        mean_se = total_se / count\n",
    "        rmse = np.sqrt(mean_se)\n",
    "        end_time = time()\n",
    "        print(f'Evaluated in {end_time - start_time:.1f} sec. RMSE = {rmse:.4f}')\n",
    "        return rmse\n",
    "    \n",
    "    def evaluate_parallel(self, data):\n",
    "        total_se = 0\n",
    "        count = 0\n",
    "        for ind in tqdm(data.index):\n",
    "            row = data.loc[ind]\n",
    "            user, movie, rating = row['user_id'], row['movie_id'], row['rating']\n",
    "            if rating >= 4:\n",
    "                prediction = self._predict_rating(user, movie)\n",
    "                error = 1 - prediction\n",
    "                total_se += error ** 2\n",
    "                count += 1\n",
    "        return total_se, count"
   ]
  },
  {
   "cell_type": "code",
   "execution_count": 392,
   "metadata": {},
   "outputs": [],
   "source": [
    "als_model = ALS(eval_data.n_users, eval_data.n_movies, training_epochs=10, reg=0.01, alpha=1000)"
   ]
  },
  {
   "cell_type": "code",
   "execution_count": 393,
   "metadata": {
    "scrolled": true
   },
   "outputs": [
    {
     "name": "stdout",
     "output_type": "stream",
     "text": [
      "Training epoch 1:\n",
      "Recomputing user embeddings...\n"
     ]
    },
    {
     "name": "stderr",
     "output_type": "stream",
     "text": [
      "100%|██████████| 6040/6040 [00:02<00:00, 2264.28it/s]"
     ]
    },
    {
     "name": "stdout",
     "output_type": "stream",
     "text": [
      "Recomputing movie embeddings...\n"
     ]
    },
    {
     "name": "stderr",
     "output_type": "stream",
     "text": [
      "\n",
      "100%|██████████| 3706/3706 [00:05<00:00, 707.84it/s]"
     ]
    },
    {
     "name": "stdout",
     "output_type": "stream",
     "text": [
      "Running evaluation:\n"
     ]
    },
    {
     "name": "stderr",
     "output_type": "stream",
     "text": [
      "\n"
     ]
    },
    {
     "name": "stdout",
     "output_type": "stream",
     "text": [
      "Evaluated in 2.2 sec. RMSE = 0.0046\n",
      "After epoch 1:\n",
      "Validation RMSE = 0.0046\n",
      "RMSE improved! Storing the parameters.\n",
      "\n",
      "Training epoch 2:\n",
      "Recomputing user embeddings...\n"
     ]
    },
    {
     "name": "stderr",
     "output_type": "stream",
     "text": [
      "100%|██████████| 6040/6040 [00:02<00:00, 2192.99it/s]"
     ]
    },
    {
     "name": "stdout",
     "output_type": "stream",
     "text": [
      "Recomputing movie embeddings...\n"
     ]
    },
    {
     "name": "stderr",
     "output_type": "stream",
     "text": [
      "\n",
      "100%|██████████| 3706/3706 [00:05<00:00, 723.02it/s]"
     ]
    },
    {
     "name": "stdout",
     "output_type": "stream",
     "text": [
      "Running evaluation:\n"
     ]
    },
    {
     "name": "stderr",
     "output_type": "stream",
     "text": [
      "\n"
     ]
    },
    {
     "name": "stdout",
     "output_type": "stream",
     "text": [
      "Evaluated in 1.5 sec. RMSE = 0.0009\n",
      "After epoch 2:\n",
      "Validation RMSE = 0.0009\n",
      "RMSE improved! Storing the parameters.\n",
      "\n",
      "Training epoch 3:\n",
      "Recomputing user embeddings...\n"
     ]
    },
    {
     "name": "stderr",
     "output_type": "stream",
     "text": [
      "100%|██████████| 6040/6040 [00:02<00:00, 2142.42it/s]"
     ]
    },
    {
     "name": "stdout",
     "output_type": "stream",
     "text": [
      "Recomputing movie embeddings...\n"
     ]
    },
    {
     "name": "stderr",
     "output_type": "stream",
     "text": [
      "\n",
      "100%|██████████| 3706/3706 [00:05<00:00, 627.14it/s]"
     ]
    },
    {
     "name": "stdout",
     "output_type": "stream",
     "text": [
      "Running evaluation:\n"
     ]
    },
    {
     "name": "stderr",
     "output_type": "stream",
     "text": [
      "\n"
     ]
    },
    {
     "name": "stdout",
     "output_type": "stream",
     "text": [
      "Evaluated in 1.6 sec. RMSE = 0.0009\n",
      "After epoch 3:\n",
      "Validation RMSE = 0.0009\n",
      "\n",
      "Training epoch 4:\n",
      "Recomputing user embeddings...\n"
     ]
    },
    {
     "name": "stderr",
     "output_type": "stream",
     "text": [
      "100%|██████████| 6040/6040 [00:02<00:00, 2025.06it/s]"
     ]
    },
    {
     "name": "stdout",
     "output_type": "stream",
     "text": [
      "Recomputing movie embeddings...\n"
     ]
    },
    {
     "name": "stderr",
     "output_type": "stream",
     "text": [
      "\n",
      "100%|██████████| 3706/3706 [00:05<00:00, 627.90it/s]"
     ]
    },
    {
     "name": "stdout",
     "output_type": "stream",
     "text": [
      "Running evaluation:\n"
     ]
    },
    {
     "name": "stderr",
     "output_type": "stream",
     "text": [
      "\n"
     ]
    },
    {
     "name": "stdout",
     "output_type": "stream",
     "text": [
      "Evaluated in 1.6 sec. RMSE = 0.0009\n",
      "After epoch 4:\n",
      "Validation RMSE = 0.0009\n",
      "\n",
      "Training epoch 5:\n",
      "Recomputing user embeddings...\n"
     ]
    },
    {
     "name": "stderr",
     "output_type": "stream",
     "text": [
      "100%|██████████| 6040/6040 [00:02<00:00, 2063.73it/s]"
     ]
    },
    {
     "name": "stdout",
     "output_type": "stream",
     "text": [
      "Recomputing movie embeddings...\n"
     ]
    },
    {
     "name": "stderr",
     "output_type": "stream",
     "text": [
      "\n",
      "100%|██████████| 3706/3706 [00:05<00:00, 690.11it/s]"
     ]
    },
    {
     "name": "stdout",
     "output_type": "stream",
     "text": [
      "Running evaluation:\n"
     ]
    },
    {
     "name": "stderr",
     "output_type": "stream",
     "text": [
      "\n"
     ]
    },
    {
     "name": "stdout",
     "output_type": "stream",
     "text": [
      "Evaluated in 1.5 sec. RMSE = 0.0009\n",
      "After epoch 5:\n",
      "Validation RMSE = 0.0009\n",
      "No validation improvements for 3 epochs. Stopping.\n",
      "Best validation RMSE: 0.0009\n"
     ]
    }
   ],
   "source": [
    "als_model.fit(eval_data.train_ratings, eval_data.val_ratings, eval_data.present_users, eval_data.present_movies)"
   ]
  },
  {
   "cell_type": "code",
   "execution_count": 389,
   "metadata": {},
   "outputs": [
    {
     "name": "stdout",
     "output_type": "stream",
     "text": [
      "Similar movies to movie Toy Story (1995) | Animation|Children's|Comedy\n",
      "Toy Story (1995) | Animation|Children's|Comedy\n",
      "Toy Story 2 (1999) | Animation|Children's|Comedy\n",
      "Groundhog Day (1993) | Comedy|Romance\n",
      "Babe (1995) | Children's|Comedy|Drama\n",
      "Snowriders (1996) | Documentary\n",
      "Race the Sun (1996) | Drama\n",
      "Adrenalin: Fear the Rush (1996) | Action|Sci-Fi\n",
      "Autopsy (Macchie Solari) (1975) | Horror\n",
      "Harlem (1993) | Drama\n",
      "Boys (1996) | Drama\n"
     ]
    }
   ],
   "source": [
    "als_model.print_similar_movies(1)"
   ]
  },
  {
   "cell_type": "code",
   "execution_count": 390,
   "metadata": {},
   "outputs": [
    {
     "name": "stdout",
     "output_type": "stream",
     "text": [
      "User 4 watched:\n",
      "Star Wars: Episode IV - A New Hope (1977) | Action|Adventure|Fantasy|Sci-Fi\n",
      "Jurassic Park (1993) | Action|Adventure|Sci-Fi\n",
      "Die Hard (1988) | Action|Thriller\n",
      "E.T. the Extra-Terrestrial (1982) | Children's|Drama|Fantasy|Sci-Fi\n",
      "Raiders of the Lost Ark (1981) | Action|Adventure\n",
      "Good, The Bad and The Ugly, The (1966) | Action|Western\n",
      "Alien (1979) | Action|Horror|Sci-Fi|Thriller\n",
      "Terminator, The (1984) | Action|Sci-Fi|Thriller\n",
      "Jaws (1975) | Action|Horror\n",
      "Rocky (1976) | Action|Drama\n",
      "Saving Private Ryan (1998) | Action|Drama|War\n",
      "King Kong (1933) | Action|Adventure|Horror\n",
      "Run Lola Run (Lola rennt) (1998) | Action|Crime|Romance\n",
      "Goldfinger (1964) | Action\n",
      "Fistful of Dollars, A (1964) | Action|Western\n",
      "Thelma & Louise (1991) | Action|Drama\n",
      "Hustler, The (1961) | Drama\n",
      "Mad Max (1979) | Action|Sci-Fi\n",
      "\n",
      "Recommended movies for user 4\n",
      "Boys and Girls (2000) | Comedy|Romance\n",
      "Bossa Nova (1999) | Comedy\n",
      "Allnighter, The (1987) | Comedy|Romance\n",
      "Ayn Rand: A Sense of Life (1997) | Documentary\n",
      "Cup, The (Ph�rpa) (1999) | Comedy\n",
      "Return of the Texas Chainsaw Massacre, The (1994) | Horror\n",
      "Meatballs III (1987) | Comedy\n",
      "Smashing Time (1967) | Comedy\n",
      "Man of No Importance, A (1994) | Drama\n",
      "Down to You (2000) | Comedy|Romance\n"
     ]
    }
   ],
   "source": [
    "als_model.print_history(4)\n",
    "\n",
    "als_model.print_recommendations(4)"
   ]
  },
  {
   "cell_type": "code",
   "execution_count": 369,
   "metadata": {},
   "outputs": [
    {
     "name": "stdout",
     "output_type": "stream",
     "text": [
      "User 250 watched:\n",
      "Forrest Gump (1994) | Comedy|Romance|War\n",
      "Jurassic Park (1993) | Action|Adventure|Sci-Fi\n",
      "Mission: Impossible (1996) | Action|Adventure|Mystery\n",
      "Escape from New York (1981) | Action|Adventure|Sci-Fi|Thriller\n",
      "Alien (1979) | Action|Horror|Sci-Fi|Thriller\n",
      "Nikita (La Femme Nikita) (1990) | Thriller\n",
      "Donnie Brasco (1997) | Crime|Drama\n",
      "Lost World: Jurassic Park, The (1997) | Action|Adventure|Sci-Fi|Thriller\n",
      "Airplane! (1980) | Comedy\n",
      "From Russia with Love (1963) | Action\n",
      "Romeo Must Die (2000) | Action|Romance\n",
      "Frequency (2000) | Drama|Thriller\n",
      "\n",
      "Recommended movies for user 250\n",
      "Pitch Black (2000) | Action|Sci-Fi\n",
      "Highlander: Endgame (2000) | Action|Adventure|Fantasy\n",
      "U-571 (2000) | Action|Thriller\n",
      "Knock Off (1998) | Action\n",
      "Art of War, The (2000) | Action\n",
      "Mission to Mars (2000) | Sci-Fi\n",
      "Aces: Iron Eagle III (1992) | Action|War\n",
      "Starship Troopers (1997) | Action|Adventure|Sci-Fi|War\n",
      "Predator 2 (1990) | Action|Sci-Fi|Thriller\n",
      "Face/Off (1997) | Action|Sci-Fi|Thriller\n"
     ]
    }
   ],
   "source": [
    "als_model.print_history(250)\n",
    "\n",
    "als_model.print_recommendations(250)"
   ]
  },
  {
   "cell_type": "code",
   "execution_count": 370,
   "metadata": {},
   "outputs": [
    {
     "name": "stdout",
     "output_type": "stream",
     "text": [
      "User 7 watched:\n",
      "Heat (1995) | Action|Crime|Thriller\n",
      "Braveheart (1995) | Action|Drama|War\n",
      "Clear and Present Danger (1994) | Action|Adventure|Thriller\n",
      "True Lies (1994) | Action|Adventure|Comedy|Romance\n",
      "Demolition Man (1993) | Action|Sci-Fi\n",
      "Fugitive, The (1993) | Action|Thriller\n",
      "In the Line of Fire (1993) | Action|Thriller\n",
      "Jurassic Park (1993) | Action|Adventure|Sci-Fi\n",
      "Terminator 2: Judgment Day (1991) | Action|Sci-Fi|Thriller\n",
      "Mission: Impossible (1996) | Action|Adventure|Mystery\n",
      "Rock, The (1996) | Action|Adventure|Thriller\n",
      "Supercop (1992) | Action|Thriller\n",
      "Star Wars: Episode V - The Empire Strikes Back (1980) | Action|Adventure|Drama|Sci-Fi|War\n",
      "Godfather: Part II, The (1974) | Action|Crime|Drama\n",
      "Back to the Future (1985) | Comedy|Sci-Fi\n",
      "Face/Off (1997) | Action|Sci-Fi|Thriller\n",
      "Men in Black (1997) | Action|Adventure|Comedy|Sci-Fi\n",
      "Hunt for Red October, The (1990) | Action|Thriller\n",
      "Tomorrow Never Dies (1997) | Action|Romance|Thriller\n",
      "Exorcist, The (1973) | Horror\n",
      "Saving Private Ryan (1998) | Action|Drama|War\n",
      "Enemy of the State (1998) | Action|Thriller\n",
      "Matrix, The (1999) | Action|Sci-Fi|Thriller\n",
      "Total Recall (1990) | Action|Adventure|Sci-Fi|Thriller\n",
      "Patriot Games (1992) | Action|Thriller\n",
      "Patriot, The (2000) | Action|Drama|War\n",
      "\n",
      "Recommended movies for user 7\n",
      "Mortal Kombat: Annihilation (1997) | Action|Adventure\n",
      "Sudden Death (1995) | Action\n",
      "Under Siege 2: Dark Territory (1995) | Action\n",
      "Marked for Death (1990) | Action|Drama\n",
      "Mercury Rising (1998) | Action|Drama|Thriller\n",
      "Solo (1996) | Action|Sci-Fi|Thriller\n",
      "Drop Zone (1994) | Action\n",
      "Terminal Velocity (1994) | Action\n",
      "Hard Rain (1998) | Action|Thriller\n",
      "Glimmer Man, The (1996) | Action|Thriller\n"
     ]
    }
   ],
   "source": [
    "als_model.print_history(7)\n",
    "\n",
    "als_model.print_recommendations(7)"
   ]
  },
  {
   "cell_type": "code",
   "execution_count": 371,
   "metadata": {},
   "outputs": [
    {
     "name": "stdout",
     "output_type": "stream",
     "text": [
      "User 6015 watched:\n",
      "Toy Story (1995) | Animation|Children's|Comedy\n",
      "Babe (1995) | Children's|Comedy|Drama\n",
      "Clerks (1994) | Comedy\n",
      "Pulp Fiction (1994) | Crime|Drama\n",
      "Manhattan Murder Mystery (1993) | Comedy|Mystery\n",
      "Much Ado About Nothing (1993) | Comedy|Romance\n",
      "Aladdin (1992) | Animation|Children's|Comedy|Musical\n",
      "Fish Called Wanda, A (1988) | Comedy\n",
      "English Patient, The (1996) | Drama|Romance|War\n",
      "Strictly Ballroom (1992) | Comedy|Romance\n",
      "Annie Hall (1977) | Comedy|Romance\n",
      "Dead Poets Society (1989) | Drama\n",
      "Groundhog Day (1993) | Comedy|Romance\n",
      "Heathers (1989) | Comedy\n",
      "Indiana Jones and the Last Crusade (1989) | Action|Adventure\n",
      "When Harry Met Sally... (1989) | Comedy|Romance\n",
      "Hercules (1997) | Adventure|Animation|Children's|Comedy|Musical\n",
      "Mulan (1998) | Animation|Children's\n",
      "Roger & Me (1989) | Comedy|Documentary\n",
      "Lady and the Tramp (1955) | Animation|Children's|Comedy|Musical|Romance\n",
      "Little Mermaid, The (1989) | Animation|Children's|Comedy|Musical|Romance\n",
      "101 Dalmatians (1961) | Animation|Children's\n",
      "Sleeping Beauty (1959) | Animation|Children's|Musical\n",
      "Producers, The (1968) | Comedy|Musical\n",
      "Waking Ned Devine (1998) | Comedy\n",
      "Shakespeare in Love (1998) | Comedy|Romance\n",
      "Tarzan (1999) | Animation|Children's\n",
      "Ghostbusters (1984) | Comedy|Horror\n",
      "American Beauty (1999) | Comedy|Drama\n",
      "Crimes and Misdemeanors (1989) | Comedy\n",
      "Moonstruck (1987) | Comedy\n",
      "Toy Story 2 (1999) | Animation|Children's|Comedy\n",
      "Fantasia 2000 (1999) | Animation|Children's|Musical\n",
      "Bull Durham (1988) | Comedy\n",
      "\n",
      "Recommended movies for user 6015\n",
      "Little Princess, A (1995) | Children's|Drama\n",
      "Swept from the Sea (1997) | Romance\n",
      "Emma (1996) | Comedy|Drama|Romance\n",
      "Muriel's Wedding (1994) | Comedy|Romance\n",
      "Ideal Husband, An (1999) | Comedy\n",
      "Grand Day Out, A (1992) | Animation|Comedy\n",
      "Twelfth Night (1996) | Comedy|Drama|Romance\n",
      "Friend of the Deceased, A (1997) | Comedy|Drama\n",
      "Madeline (1998) | Children's|Comedy\n",
      "Shall We Dance? (Shall We Dansu?) (1996) | Comedy\n"
     ]
    }
   ],
   "source": [
    "als_model.print_history(6015)\n",
    "\n",
    "als_model.print_recommendations(6015)"
   ]
  },
  {
   "cell_type": "markdown",
   "metadata": {},
   "source": [
    "### Задание 3. Не использую готовые решения, реализовать матричное разложение BPR на implicit данных"
   ]
  },
  {
   "cell_type": "code",
   "execution_count": null,
   "metadata": {},
   "outputs": [],
   "source": [
    "# class BPR:\n",
    "\n",
    "#     def __init__(self,):\n",
    "    \n",
    "#     def evaluate(self, data):\n",
    "#         print(f'Running evaluation:', flush=True)\n",
    "#         end_time = time()\n",
    "#         y_true =  defaultdict(list)\n",
    "#         y_predicted = defaultdict(list)\n",
    "#         for ind in tqdm(data.index):\n",
    "#             row = data.loc[ind]\n",
    "#             user, movie, rating = row['user_id'], row['movie_id'], row['rating']\n",
    "#             if rating >= 4:\n",
    "#                 y_true[user].append(1)\n",
    "#             else:\n",
    "#                 y_true[user].append(0)\n",
    "#             prediction = np.dot(self.movie_embedding[movie], self.user_embedding[user]) / np.linalg.norm(self.movie_embedding[movie])\n",
    "#             y_predicted[user].append(prediction)\n",
    "        \n",
    "#         total_roc_auc = 0\n",
    "#         count = 0\n",
    "#         for user in y_true.keys():\n",
    "#             y_t = y_true[user]\n",
    "#             if 0 in y_t and 1 in y_t:\n",
    "#                 y_p = y_predicted[user]\n",
    "#                 total_roc_auc += roc_auc_score(y_t, y_p)\n",
    "#                 count += 1\n",
    "#         return total_roc_auc / count"
   ]
  },
  {
   "cell_type": "markdown",
   "metadata": {},
   "source": [
    "### Задание 4. Не использую готовые решения, реализовать матричное разложение WARP на implicit данных"
   ]
  },
  {
   "cell_type": "code",
   "execution_count": null,
   "metadata": {},
   "outputs": [],
   "source": []
  }
 ],
 "metadata": {
  "kernelspec": {
   "display_name": "Python 3",
   "language": "python",
   "name": "python3"
  },
  "language_info": {
   "codemirror_mode": {
    "name": "ipython",
    "version": 3
   },
   "file_extension": ".py",
   "mimetype": "text/x-python",
   "name": "python",
   "nbconvert_exporter": "python",
   "pygments_lexer": "ipython3",
   "version": "3.8.5"
  }
 },
 "nbformat": 4,
 "nbformat_minor": 2
}
